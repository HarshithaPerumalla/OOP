{
  "nbformat": 4,
  "nbformat_minor": 0,
  "metadata": {
    "colab": {
      "name": "oops_unit2_part1.ipynb",
      "provenance": [],
      "collapsed_sections": [],
      "authorship_tag": "ABX9TyMGKToP2NW7/aV+WdXXXnKz",
      "include_colab_link": true
    },
    "kernelspec": {
      "display_name": "Python 3",
      "name": "python3"
    },
    "language_info": {
      "name": "python"
    }
  },
  "cells": [
    {
      "cell_type": "markdown",
      "metadata": {
        "id": "view-in-github",
        "colab_type": "text"
      },
      "source": [
        "<a href=\"https://colab.research.google.com/github/HarshithaPerumalla/OOP/blob/main/oops_unit2_part1.ipynb\" target=\"_parent\"><img src=\"https://colab.research.google.com/assets/colab-badge.svg\" alt=\"Open In Colab\"/></a>"
      ]
    },
    {
      "cell_type": "code",
      "metadata": {
        "colab": {
          "base_uri": "https://localhost:8080/"
        },
        "id": "ezSDV8FRFknq",
        "outputId": "6b08a178-2eb9-4ff3-82e1-be3cbde284f3"
      },
      "source": [
        "#prgrm1: prompts user to select from given char and displying outstanding, v.gud, avg,fail using if-if el- else\n",
        "\n",
        "print(\"select a option from giVen character \\t 'O' \\t 'A' \\t 'B' \\t 'C' \\t 'F'\")\n",
        "i=input('enter the char from given options:')\n",
        "if ( i=='O'):\n",
        "  print('OUT STANDING')\n",
        "elif (i=='A'):\n",
        "  print('VERY GOOD')\n",
        "elif (i=='B'):\n",
        "  print('GOOd')\n",
        "elif (i==\"c\"):\n",
        "  print('AVERAGE')\n",
        "elif (i==\"F\"):\n",
        "  print('FAIL')\n",
        "else:\n",
        "  print('character is not selected from given options')  "
      ],
      "execution_count": null,
      "outputs": [
        {
          "name": "stdout",
          "output_type": "stream",
          "text": [
            "select a option from giVen character \t 'O' \t 'A' \t 'B' \t 'C' \t 'F'\n",
            "enter the char from given options:F\n",
            "FAIL\n"
          ]
        }
      ]
    },
    {
      "cell_type": "code",
      "metadata": {
        "colab": {
          "background_save": true,
          "base_uri": "https://localhost:8080/"
        },
        "id": "0qKEBXp8_D0I",
        "outputId": "948825ff-738d-4511-9085-a41465a57159"
      },
      "source": [
        "x = range(6)\n",
        "for n in x:\n",
        "  print(n)\n",
        "  "
      ],
      "execution_count": null,
      "outputs": [
        {
          "name": "stdout",
          "output_type": "stream",
          "text": [
            "6\n",
            "8\n",
            "10\n",
            "12\n",
            "14\n",
            "16\n",
            "18\n",
            "20\n",
            "22\n",
            "24\n",
            "26\n",
            "28\n"
          ]
        }
      ]
    },
    {
      "cell_type": "code",
      "metadata": {
        "colab": {
          "base_uri": "https://localhost:8080/"
        },
        "id": "d00CVtTvLtKI",
        "outputId": "fa8e0ad5-9c44-4e71-948f-db3d9743b257"
      },
      "source": [
        "i=input('enter anthing:')\n",
        "if (i.isupper()):\n",
        "  print('it is in upper case')\n",
        "elif (i.islower()):\n",
        "  print('it is in lower case')\n",
        "elif (i.isdigit()):\n",
        "   print('it is digit')\n",
        "else:\n",
        "  print('only enter alphabet or digits')\n"
      ],
      "execution_count": null,
      "outputs": [
        {
          "name": "stdout",
          "output_type": "stream",
          "text": [
            "enter anthing:yyy\n",
            "it is in lower case\n"
          ]
        }
      ]
    },
    {
      "cell_type": "code",
      "metadata": {
        "colab": {
          "base_uri": "https://localhost:8080/"
        },
        "id": "4rKvNCZ6L7rd",
        "outputId": "fccef775-05fd-4b03-d7b1-cb53a01d9319"
      },
      "source": [
        "#prgrm to count letters in entered character or digits\n",
        "i=input('enter anything:')\n",
        "upper,lower,digits=0,0,0\n",
        "for a in range(len(i)):\n",
        "  if (i[a].isupper()):\n",
        "    upper=upper+1\n",
        "  if (i[a].islower()):\n",
        "    lower=lower+1\n",
        "  if (i[a].isdigit()):\n",
        "    digits=digits+1\n",
        "print('no. of letters in upper case:',upper)\n",
        "print('no. of letters in lower case:',lower)\n",
        "print('no. of letters in digits case:',digits)"
      ],
      "execution_count": null,
      "outputs": [
        {
          "name": "stdout",
          "output_type": "stream",
          "text": [
            "enter anything:h12h789HAG\n",
            "no. of letters in upper case: 3\n",
            "no. of letters in lower case: 2\n",
            "no. of letters in digits case: 5\n"
          ]
        }
      ]
    },
    {
      "cell_type": "code",
      "metadata": {
        "id": "DZlRETHcZzXS"
      },
      "source": [
        "#prgrm 4 : \n",
        "#90If the number is equal to 99, print \"Congratulations”.\n",
        "i=int(input('Enter a number:'))\n",
        "while i!=99:\n",
        "  if i<99:\n",
        "    i=int(input('Enter again and aim higher:'))\n",
        "  elif i>99:\n",
        "    i=int(input('Enter again a lower number:'))\n",
        "if i==99:\n",
        "  print('congratulations!')"
      ],
      "execution_count": null,
      "outputs": []
    },
    {
      "cell_type": "code",
      "metadata": {
        "colab": {
          "base_uri": "https://localhost:8080/"
        },
        "id": "-KR0uIn507jp",
        "outputId": "ec6484e9-a24c-4f1d-8247-3fd50fd58caf"
      },
      "source": [
        "#prgrm 5 :prgrm to demonstate use of nested if else\n",
        "a=input('enter any thing')\n",
        "if a.isalpha():\n",
        "  if a.isupper():\n",
        "    print('a is upper case')\n",
        "  elif a.islower():\n",
        "    print('a is in lower case')\n",
        "elif a.isdigit():\n",
        "  print('a is in digits')\n",
        "else:\n",
        "   print('a is a special character')        "
      ],
      "execution_count": null,
      "outputs": [
        {
          "name": "stdout",
          "output_type": "stream",
          "text": [
            "enter any thingharshu\n",
            "a is in lower case\n"
          ]
        }
      ]
    },
    {
      "cell_type": "code",
      "metadata": {
        "colab": {
          "base_uri": "https://localhost:8080/"
        },
        "id": "C9TSIHo70_X9",
        "outputId": "358fa307-bf57-4b46-b3c9-d7f74eba5f1d"
      },
      "source": [
        "#prgrm 6 : average of first n numbers using for loop\n",
        "a=int(input(\"enter the value of n,where n is no. of digits : \"))\n",
        "sum=0\n",
        "for i in range (1,a+1):\n",
        "  sum=sum+i\n",
        "avg=sum/a\n",
        "print('average is',avg)"
      ],
      "execution_count": null,
      "outputs": [
        {
          "name": "stdout",
          "output_type": "stream",
          "text": [
            "enter the value of n,where n is no. of digits : 6\n",
            "average is 2.5\n"
          ]
        }
      ]
    },
    {
      "cell_type": "code",
      "metadata": {
        "colab": {
          "base_uri": "https://localhost:8080/"
        },
        "id": "PWPPga2Bb6OM",
        "outputId": "283d9c5f-ea41-495f-b788-5d1d2c12d0fa"
      },
      "source": [
        "#7.Write a program that prompts the user to enter a string. The program calculates and displays\n",
        "#the length of the string until the user enters \"QUIT\". (Hint: Use a while loop)\n",
        "a=input('enter a string')\n",
        " \n",
        "while a!='QUIT':\n",
        "  b=len(a)\n",
        "  print('the length is',b)\n",
        "  a=input('enter again:')\n",
        "if a=='QUIT':\n",
        "  pass  "
      ],
      "execution_count": null,
      "outputs": [
        {
          "name": "stdout",
          "output_type": "stream",
          "text": [
            "enter a stringHARSHU\n",
            "the length is 6\n",
            "enter again:QUIT\n"
          ]
        }
      ]
    },
    {
      "cell_type": "code",
      "metadata": {
        "id": "U58W2U-ZAFcm"
      },
      "source": [
        "#8.Write a program that prompts the user to enter five words. If the length of any word is less\n",
        "#than 6 characters, then it asks the user to enter it again, However, if the word is of 6 or more\n",
        "#characters, then it displays it on the screen.\n",
        "a=input('enter 5 wors:')"
      ],
      "execution_count": null,
      "outputs": []
    },
    {
      "cell_type": "code",
      "metadata": {
        "colab": {
          "base_uri": "https://localhost:8080/"
        },
        "id": "3j-uOc-SlTDv",
        "outputId": "f47ffeab-d46c-42a0-c776-af2defdf0dda"
      },
      "source": [
        "#prgrm10:Write a program that displays Oxford University Press as \n",
        "#a,  oxford university press \n",
        "#b. OXFORD UNIVERSITY PRESS \n",
        "a='Oxford University Press'\n",
        "print(a.lower())\n",
        "print(a.upper())\n"
      ],
      "execution_count": null,
      "outputs": [
        {
          "name": "stdout",
          "output_type": "stream",
          "text": [
            "oxford university press\n",
            "OXFORD UNIVERSITY PRESS\n"
          ]
        }
      ]
    },
    {
      "cell_type": "code",
      "metadata": {
        "id": "qUa7ZTadwyNm"
      },
      "source": [
        "#practise"
      ],
      "execution_count": null,
      "outputs": []
    },
    {
      "cell_type": "code",
      "metadata": {
        "colab": {
          "base_uri": "https://localhost:8080/",
          "height": 520
        },
        "id": "9UzbIocNwAmk",
        "outputId": "27b892cb-e705-4832-a2b3-abb736767d20"
      },
      "source": [
        "'''a=input(\"enter  a code\")\n",
        "if a==\"o\":\n",
        "  print('outstndng')\n",
        "elif a==\"vg\":\n",
        "  print('vg')\n",
        "elif a==\"g\":\n",
        "  print('ggud')\n",
        "else :\n",
        "  print('fail')\n",
        "b = input('enter any thing')\n",
        "if b.isupper():\n",
        "  print('upper')\n",
        "elif b.isdigit():\n",
        "  print('digi')\n",
        "elif b.islower():\n",
        "  print('lower')\n",
        "else:\n",
        "  print('enter a valid value')'''\n",
        "'''a=input('enter combination of strings and digits:')\n",
        "j,k,l=0,0,0\n",
        "for i in range (len(a)):\n",
        "  if a[i].isupper():\n",
        "    j=j+1\n",
        "  if a[i].islower():\n",
        "    k=k+1\n",
        "  if a[i].isdigit():\n",
        "    l=l+1\n",
        "print(j,k,l)'''\n",
        "'''#4\n",
        "a=int(input('enter a number'))\n",
        "while a !=99:\n",
        "  if a<99:\n",
        "    a=int(input('enter greater num'))\n",
        "  elif a>99:\n",
        "    a=int(input('enter less num'))\n",
        "if a==99:\n",
        "  print('congo')'''\n",
        "\n",
        "'''#5\n",
        "a=int(input(\"enter a number:\"))\n",
        "if a<100:\n",
        "  if a % 2==0:\n",
        "    print('even number less than 100')\n",
        "  else:\n",
        "    print('odd num less 100')\n",
        "else:\n",
        "  print('num is > 100')'''\n",
        "'''#6\n",
        "a=int(input('enter n  ;to find avg of first n natural num'))\n",
        "sum=0\n",
        "for i in range(0,a+1):\n",
        "  sum=sum+i\n",
        "avg=sum/a\n",
        "print(avg)'''\n",
        "#7\n",
        "for i in range (6): \n",
        "  Word = input(\"enter word number \" + str(i) + \" : \") \n",
        "while len(Word) < 6: \n",
        "  Word = input(\" try again : \")\n",
        "print(word[3])"
      ],
      "execution_count": null,
      "outputs": [
        {
          "output_type": "error",
          "ename": "KeyboardInterrupt",
          "evalue": "ignored",
          "traceback": [
            "\u001b[0;31m---------------------------------------------------------------------------\u001b[0m",
            "\u001b[0;31mKeyboardInterrupt\u001b[0m                         Traceback (most recent call last)",
            "\u001b[0;32m/usr/local/lib/python3.7/dist-packages/ipykernel/kernelbase.py\u001b[0m in \u001b[0;36m_input_request\u001b[0;34m(self, prompt, ident, parent, password)\u001b[0m\n\u001b[1;32m    728\u001b[0m             \u001b[0;32mtry\u001b[0m\u001b[0;34m:\u001b[0m\u001b[0;34m\u001b[0m\u001b[0;34m\u001b[0m\u001b[0m\n\u001b[0;32m--> 729\u001b[0;31m                 \u001b[0mident\u001b[0m\u001b[0;34m,\u001b[0m \u001b[0mreply\u001b[0m \u001b[0;34m=\u001b[0m \u001b[0mself\u001b[0m\u001b[0;34m.\u001b[0m\u001b[0msession\u001b[0m\u001b[0;34m.\u001b[0m\u001b[0mrecv\u001b[0m\u001b[0;34m(\u001b[0m\u001b[0mself\u001b[0m\u001b[0;34m.\u001b[0m\u001b[0mstdin_socket\u001b[0m\u001b[0;34m,\u001b[0m \u001b[0;36m0\u001b[0m\u001b[0;34m)\u001b[0m\u001b[0;34m\u001b[0m\u001b[0;34m\u001b[0m\u001b[0m\n\u001b[0m\u001b[1;32m    730\u001b[0m             \u001b[0;32mexcept\u001b[0m \u001b[0mException\u001b[0m\u001b[0;34m:\u001b[0m\u001b[0;34m\u001b[0m\u001b[0;34m\u001b[0m\u001b[0m\n",
            "\u001b[0;32m/usr/local/lib/python3.7/dist-packages/jupyter_client/session.py\u001b[0m in \u001b[0;36mrecv\u001b[0;34m(self, socket, mode, content, copy)\u001b[0m\n\u001b[1;32m    802\u001b[0m         \u001b[0;32mtry\u001b[0m\u001b[0;34m:\u001b[0m\u001b[0;34m\u001b[0m\u001b[0;34m\u001b[0m\u001b[0m\n\u001b[0;32m--> 803\u001b[0;31m             \u001b[0mmsg_list\u001b[0m \u001b[0;34m=\u001b[0m \u001b[0msocket\u001b[0m\u001b[0;34m.\u001b[0m\u001b[0mrecv_multipart\u001b[0m\u001b[0;34m(\u001b[0m\u001b[0mmode\u001b[0m\u001b[0;34m,\u001b[0m \u001b[0mcopy\u001b[0m\u001b[0;34m=\u001b[0m\u001b[0mcopy\u001b[0m\u001b[0;34m)\u001b[0m\u001b[0;34m\u001b[0m\u001b[0;34m\u001b[0m\u001b[0m\n\u001b[0m\u001b[1;32m    804\u001b[0m         \u001b[0;32mexcept\u001b[0m \u001b[0mzmq\u001b[0m\u001b[0;34m.\u001b[0m\u001b[0mZMQError\u001b[0m \u001b[0;32mas\u001b[0m \u001b[0me\u001b[0m\u001b[0;34m:\u001b[0m\u001b[0;34m\u001b[0m\u001b[0;34m\u001b[0m\u001b[0m\n",
            "\u001b[0;32m/usr/local/lib/python3.7/dist-packages/zmq/sugar/socket.py\u001b[0m in \u001b[0;36mrecv_multipart\u001b[0;34m(self, flags, copy, track)\u001b[0m\n\u001b[1;32m    618\u001b[0m         \"\"\"\n\u001b[0;32m--> 619\u001b[0;31m         \u001b[0mparts\u001b[0m \u001b[0;34m=\u001b[0m \u001b[0;34m[\u001b[0m\u001b[0mself\u001b[0m\u001b[0;34m.\u001b[0m\u001b[0mrecv\u001b[0m\u001b[0;34m(\u001b[0m\u001b[0mflags\u001b[0m\u001b[0;34m,\u001b[0m \u001b[0mcopy\u001b[0m\u001b[0;34m=\u001b[0m\u001b[0mcopy\u001b[0m\u001b[0;34m,\u001b[0m \u001b[0mtrack\u001b[0m\u001b[0;34m=\u001b[0m\u001b[0mtrack\u001b[0m\u001b[0;34m)\u001b[0m\u001b[0;34m]\u001b[0m\u001b[0;34m\u001b[0m\u001b[0;34m\u001b[0m\u001b[0m\n\u001b[0m\u001b[1;32m    620\u001b[0m         \u001b[0;31m# have first part already, only loop while more to receive\u001b[0m\u001b[0;34m\u001b[0m\u001b[0;34m\u001b[0m\u001b[0;34m\u001b[0m\u001b[0m\n",
            "\u001b[0;32mzmq/backend/cython/socket.pyx\u001b[0m in \u001b[0;36mzmq.backend.cython.socket.Socket.recv\u001b[0;34m()\u001b[0m\n",
            "\u001b[0;32mzmq/backend/cython/socket.pyx\u001b[0m in \u001b[0;36mzmq.backend.cython.socket.Socket.recv\u001b[0;34m()\u001b[0m\n",
            "\u001b[0;32mzmq/backend/cython/socket.pyx\u001b[0m in \u001b[0;36mzmq.backend.cython.socket._recv_copy\u001b[0;34m()\u001b[0m\n",
            "\u001b[0;32m/usr/local/lib/python3.7/dist-packages/zmq/backend/cython/checkrc.pxd\u001b[0m in \u001b[0;36mzmq.backend.cython.checkrc._check_rc\u001b[0;34m()\u001b[0m\n",
            "\u001b[0;31mKeyboardInterrupt\u001b[0m: ",
            "\nDuring handling of the above exception, another exception occurred:\n",
            "\u001b[0;31mKeyboardInterrupt\u001b[0m                         Traceback (most recent call last)",
            "\u001b[0;32m<ipython-input-31-724122f34771>\u001b[0m in \u001b[0;36m<module>\u001b[0;34m()\u001b[0m\n\u001b[1;32m     55\u001b[0m \u001b[0;31m#7\u001b[0m\u001b[0;34m\u001b[0m\u001b[0;34m\u001b[0m\u001b[0;34m\u001b[0m\u001b[0m\n\u001b[1;32m     56\u001b[0m \u001b[0;32mfor\u001b[0m \u001b[0mi\u001b[0m \u001b[0;32min\u001b[0m \u001b[0mrange\u001b[0m \u001b[0;34m(\u001b[0m\u001b[0;36m6\u001b[0m\u001b[0;34m)\u001b[0m\u001b[0;34m:\u001b[0m\u001b[0;34m\u001b[0m\u001b[0;34m\u001b[0m\u001b[0m\n\u001b[0;32m---> 57\u001b[0;31m   \u001b[0mWord\u001b[0m \u001b[0;34m=\u001b[0m \u001b[0minput\u001b[0m\u001b[0;34m(\u001b[0m\u001b[0;34m\"enter word number \"\u001b[0m \u001b[0;34m+\u001b[0m \u001b[0mstr\u001b[0m\u001b[0;34m(\u001b[0m\u001b[0mi\u001b[0m\u001b[0;34m)\u001b[0m \u001b[0;34m+\u001b[0m \u001b[0;34m\" : \"\u001b[0m\u001b[0;34m)\u001b[0m\u001b[0;34m\u001b[0m\u001b[0;34m\u001b[0m\u001b[0m\n\u001b[0m\u001b[1;32m     58\u001b[0m \u001b[0;32mwhile\u001b[0m \u001b[0mlen\u001b[0m\u001b[0;34m(\u001b[0m\u001b[0mWord\u001b[0m\u001b[0;34m)\u001b[0m \u001b[0;34m<\u001b[0m \u001b[0;36m6\u001b[0m\u001b[0;34m:\u001b[0m\u001b[0;34m\u001b[0m\u001b[0;34m\u001b[0m\u001b[0m\n\u001b[1;32m     59\u001b[0m   \u001b[0mWord\u001b[0m \u001b[0;34m=\u001b[0m \u001b[0minput\u001b[0m\u001b[0;34m(\u001b[0m\u001b[0;34m\" try again : \"\u001b[0m\u001b[0;34m)\u001b[0m\u001b[0;34m\u001b[0m\u001b[0;34m\u001b[0m\u001b[0m\n",
            "\u001b[0;32m/usr/local/lib/python3.7/dist-packages/ipykernel/kernelbase.py\u001b[0m in \u001b[0;36mraw_input\u001b[0;34m(self, prompt)\u001b[0m\n\u001b[1;32m    702\u001b[0m             \u001b[0mself\u001b[0m\u001b[0;34m.\u001b[0m\u001b[0m_parent_ident\u001b[0m\u001b[0;34m,\u001b[0m\u001b[0;34m\u001b[0m\u001b[0;34m\u001b[0m\u001b[0m\n\u001b[1;32m    703\u001b[0m             \u001b[0mself\u001b[0m\u001b[0;34m.\u001b[0m\u001b[0m_parent_header\u001b[0m\u001b[0;34m,\u001b[0m\u001b[0;34m\u001b[0m\u001b[0;34m\u001b[0m\u001b[0m\n\u001b[0;32m--> 704\u001b[0;31m             \u001b[0mpassword\u001b[0m\u001b[0;34m=\u001b[0m\u001b[0;32mFalse\u001b[0m\u001b[0;34m,\u001b[0m\u001b[0;34m\u001b[0m\u001b[0;34m\u001b[0m\u001b[0m\n\u001b[0m\u001b[1;32m    705\u001b[0m         )\n\u001b[1;32m    706\u001b[0m \u001b[0;34m\u001b[0m\u001b[0m\n",
            "\u001b[0;32m/usr/local/lib/python3.7/dist-packages/ipykernel/kernelbase.py\u001b[0m in \u001b[0;36m_input_request\u001b[0;34m(self, prompt, ident, parent, password)\u001b[0m\n\u001b[1;32m    732\u001b[0m             \u001b[0;32mexcept\u001b[0m \u001b[0mKeyboardInterrupt\u001b[0m\u001b[0;34m:\u001b[0m\u001b[0;34m\u001b[0m\u001b[0;34m\u001b[0m\u001b[0m\n\u001b[1;32m    733\u001b[0m                 \u001b[0;31m# re-raise KeyboardInterrupt, to truncate traceback\u001b[0m\u001b[0;34m\u001b[0m\u001b[0;34m\u001b[0m\u001b[0;34m\u001b[0m\u001b[0m\n\u001b[0;32m--> 734\u001b[0;31m                 \u001b[0;32mraise\u001b[0m \u001b[0mKeyboardInterrupt\u001b[0m\u001b[0;34m\u001b[0m\u001b[0;34m\u001b[0m\u001b[0m\n\u001b[0m\u001b[1;32m    735\u001b[0m             \u001b[0;32melse\u001b[0m\u001b[0;34m:\u001b[0m\u001b[0;34m\u001b[0m\u001b[0;34m\u001b[0m\u001b[0m\n\u001b[1;32m    736\u001b[0m                 \u001b[0;32mbreak\u001b[0m\u001b[0;34m\u001b[0m\u001b[0;34m\u001b[0m\u001b[0m\n",
            "\u001b[0;31mKeyboardInterrupt\u001b[0m: "
          ]
        }
      ]
    }
  ]
}